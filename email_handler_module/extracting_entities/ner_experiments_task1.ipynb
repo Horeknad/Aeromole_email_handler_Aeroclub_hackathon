{
  "cells": [
    {
      "cell_type": "code",
      "execution_count": 39,
      "metadata": {
        "id": "0ecae726",
        "colab": {
          "base_uri": "https://localhost:8080/"
        },
        "outputId": "9e89e4b6-6777-4a49-b8e0-ba4a028c02d1"
      },
      "outputs": [
        {
          "output_type": "stream",
          "name": "stdout",
          "text": [
            "2023-05-25 20:03:00.917033: W tensorflow/compiler/tf2tensorrt/utils/py_utils.cc:38] TF-TRT Warning: Could not find TensorRT\n"
          ]
        }
      ],
      "source": [
        "!pip install pandas scikit-learn tqdm ipywidgets scapy>pip.log\n",
        "\n",
        "!python -m spacy download ru_core_news_lg>spacy.log"
      ],
      "id": "0ecae726"
    },
    {
      "cell_type": "code",
      "execution_count": 42,
      "metadata": {
        "id": "c2b5f95d"
      },
      "outputs": [],
      "source": [
        "import numpy as np\n",
        "import pandas as pd\n",
        "import joblib\n",
        "import locale\n",
        "from tqdm import tqdm\n",
        "\n",
        "import spacy\n",
        "\n",
        "locale.getpreferredencoding = lambda: \"UTF-8\"\n",
        "\n",
        "tqdm.pandas()\n"
      ],
      "id": "c2b5f95d"
    },
    {
      "cell_type": "code",
      "source": [
        "disable = ['tok2vec', 'tagger', 'morphologizer', 'parser', 'senter', 'attribute_ruler']\n",
        "\n",
        "nlp = spacy.load(\"ru_core_news_lg\", disable=disable)\n",
        "\n",
        "\n",
        "def lemmatize(text):\n",
        "    doc = nlp(text)\n",
        "    return \" \".join([tok.lemma_ for tok in doc])\n",
        "\n",
        "\n",
        "def extract_ents(text):\n",
        "\n",
        "    # лемматизация\n",
        "    lem = lemmatize(text)\n",
        "\n",
        "    # извлечение сущностей spacy (PER - имена, LOC - географические названия, ORG - организации)\n",
        "    doc = nlp(lem)\n",
        "    ents = [(ent.lemma_, ent.start_char, ent.end_char, ent.label_) for ent in doc.ents]\n",
        "\n",
        "    # регулярные выражения:\n",
        "    #   даты в различных форматах\n",
        "    #   время в различных форматах\n",
        "    #   номера рейсов (авиакомпания - номер рейса)\n",
        "\n",
        "    # поиск ключевых слов\n",
        "    #   время суток: утро - день - вечер - ночь\n",
        "    #   дни недели: утро - день - вечер - ночь\n",
        "    #   сегодня - завтра - послезавтра\n",
        "    #   названия месяцев\n",
        "    #   авиа - жд - гостиница - отель\n",
        "    #   число звезд\n",
        "    #   категория номера (стандартный, двухместный, люкс, завтрак и т.п)\n",
        "    #   цена (число рублей)\n",
        "\n",
        "    #   много всего ...\n",
        "\n",
        "    #   для извлечения сущностей нам не хватает... не хватает...\n",
        "    #   нам не хватает ЕЩЕ ТАКОГО ХАКАТОНА!!!\n",
        "\n",
        "    return ents\n"
      ],
      "metadata": {
        "id": "uGW_jvh3aqSz"
      },
      "id": "uGW_jvh3aqSz",
      "execution_count": 43,
      "outputs": []
    },
    {
      "cell_type": "code",
      "source": [
        "text = '''Здравствуйте! Не могли бы вы подобрать варианты утренних рейсов на 15 мая 2019 года\n",
        " из Москвы в Волгоград и 30 мая обратно?  С багажом в пределах 15000 рублей в эконом классе, \n",
        " желталельно туда рейс SU124. С уважением.14:57'\n",
        "'''\n",
        "\n",
        "extract_ents(text)"
      ],
      "metadata": {
        "colab": {
          "base_uri": "https://localhost:8080/"
        },
        "id": "zAEXlS8OV_L4",
        "outputId": "6280c80d-8df9-4e45-bf50-fa35eb1253db"
      },
      "id": "zAEXlS8OV_L4",
      "execution_count": 44,
      "outputs": [
        {
          "output_type": "execute_result",
          "data": {
            "text/plain": [
              "[('москва', 87, 93, 'LOC'), ('волгоград', 96, 105, 'LOC')]"
            ]
          },
          "metadata": {},
          "execution_count": 44
        }
      ]
    },
    {
      "cell_type": "code",
      "source": [
        "text = '''Здравствуйте! Нужны варианты проживания в отеле в Самаре 01.05.19 по 03.05.19. \n",
        "4 звезды, стандартный двухместный номер с завтраком до 20000 руб.. С уважением.\n",
        "'''\n",
        "\n",
        "extract_ents(text)"
      ],
      "metadata": {
        "colab": {
          "base_uri": "https://localhost:8080/"
        },
        "id": "E92hyMsXV_I5",
        "outputId": "4087fa33-1089-4063-bee6-577f48991406"
      },
      "id": "E92hyMsXV_I5",
      "execution_count": 45,
      "outputs": [
        {
          "output_type": "execute_result",
          "data": {
            "text/plain": [
              "[('Самаре', 52, 58, 'LOC')]"
            ]
          },
          "metadata": {},
          "execution_count": 45
        }
      ]
    },
    {
      "cell_type": "code",
      "source": [
        "text = '''Добрый день! Пришлите поезда из Москвы в Санкт Петербург 02.05.19, до 12 утра \n",
        "Сапсан (сидячий), номер поезда 757. С уважением.\n",
        "'''\n",
        "\n",
        "extract_ents(text)"
      ],
      "metadata": {
        "colab": {
          "base_uri": "https://localhost:8080/"
        },
        "id": "Mb3g-6ZOc1xU",
        "outputId": "9e4dc4fa-b1b2-4a9e-9611-8aef98ca8cd2"
      },
      "id": "Mb3g-6ZOc1xU",
      "execution_count": 46,
      "outputs": [
        {
          "output_type": "execute_result",
          "data": {
            "text/plain": [
              "[('москва', 32, 38, 'LOC'), ('санкт петербург', 41, 56, 'LOC')]"
            ]
          },
          "metadata": {},
          "execution_count": 46
        }
      ]
    },
    {
      "cell_type": "code",
      "source": [],
      "metadata": {
        "id": "ytfxWiX-c1oF"
      },
      "id": "ytfxWiX-c1oF",
      "execution_count": null,
      "outputs": []
    }
  ],
  "metadata": {
    "colab": {
      "provenance": [],
      "gpuType": "T4"
    },
    "kernelspec": {
      "display_name": "Python 3 (ipykernel)",
      "language": "python",
      "name": "python3"
    },
    "language_info": {
      "codemirror_mode": {
        "name": "ipython",
        "version": 3
      },
      "file_extension": ".py",
      "mimetype": "text/x-python",
      "name": "python",
      "nbconvert_exporter": "python",
      "pygments_lexer": "ipython3",
      "version": "3.9.0"
    },
    "gpuClass": "standard"
  },
  "nbformat": 4,
  "nbformat_minor": 5
}